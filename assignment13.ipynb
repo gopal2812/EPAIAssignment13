{
  "nbformat": 4,
  "nbformat_minor": 0,
  "metadata": {
    "colab": {
      "name": "Untitled",
      "provenance": [],
      "authorship_tag": "ABX9TyMPpqhPXbp0s2sDzNDuHQTX",
      "include_colab_link": true
    },
    "kernelspec": {
      "name": "python3",
      "display_name": "Python 3"
    },
    "language_info": {
      "name": "python"
    }
  },
  "cells": [
    {
      "cell_type": "markdown",
      "metadata": {
        "id": "view-in-github",
        "colab_type": "text"
      },
      "source": [
        "<a href=\"https://colab.research.google.com/github/gopal2812/EPAIAssignment13/blob/main/assignment13.ipynb\" target=\"_parent\"><img src=\"https://colab.research.google.com/assets/colab-badge.svg\" alt=\"Open In Colab\"/></a>"
      ]
    },
    {
      "cell_type": "markdown",
      "metadata": {
        "id": "CsCyjFNT8DiU"
      },
      "source": [
        "#Goal 1\n",
        "Create a lazy iterator that will return a named tuple of the data in each row. The data types should be appropriate - i.e. if the column is a date, you should be storing dates in the named tuple, if the field is an integer, then it should be stored as an integer, etc."
      ]
    },
    {
      "cell_type": "code",
      "metadata": {
        "id": "sF41TtHiXXM1"
      },
      "source": [
        "from collections import namedtuple\n",
        "from decimal import Decimal\n",
        "from datetime import datetime"
      ],
      "execution_count": 1,
      "outputs": []
    },
    {
      "cell_type": "code",
      "metadata": {
        "colab": {
          "base_uri": "https://localhost:8080/"
        },
        "id": "wbOeKU3taFPI",
        "outputId": "d0d06fb0-5860-4978-e2d6-3cc5315b268e"
      },
      "source": [
        "from google.colab import drive\n",
        "drive.mount('/content/gdrive/')\n",
        "!ls /content/gdrive/MyDrive/nyc*"
      ],
      "execution_count": 2,
      "outputs": [
        {
          "output_type": "stream",
          "text": [
            "Drive already mounted at /content/gdrive/; to attempt to forcibly remount, call drive.mount(\"/content/gdrive/\", force_remount=True).\n",
            "/content/gdrive/MyDrive/nyc_parking_tickets_extract-1.csv\n"
          ],
          "name": "stdout"
        }
      ]
    },
    {
      "cell_type": "code",
      "metadata": {
        "colab": {
          "base_uri": "https://localhost:8080/"
        },
        "id": "LWY-pnIkgnvf",
        "outputId": "316c6d60-2c76-4ebf-e09d-6914c41f75e6"
      },
      "source": [
        "filename='/content/gdrive/MyDrive/nyc_parking_tickets_extract-1.csv'\n",
        "open(filename, 'r').readline().strip().split(',')"
      ],
      "execution_count": 3,
      "outputs": [
        {
          "output_type": "execute_result",
          "data": {
            "text/plain": [
              "['Summons Number',\n",
              " 'Plate ID',\n",
              " 'Registration State',\n",
              " 'Plate Type',\n",
              " 'Issue Date',\n",
              " 'Violation Code',\n",
              " 'Vehicle Body Type',\n",
              " 'Vehicle Make',\n",
              " 'Violation Description']"
            ]
          },
          "metadata": {
            "tags": []
          },
          "execution_count": 3
        }
      ]
    },
    {
      "cell_type": "code",
      "metadata": {
        "id": "9lm3zRavtrJX"
      },
      "source": [
        "# Make a namedtuple with the above keywords as fields in that order\n",
        "ParkingTickets = namedtuple('ParkingTickets', ('summons_no', 'plate_id', 'regn_state', 'plate_type', 'issue_date', 'violation_code', 'vehicle_type', 'vehicle_make', 'violation_descr'))"
      ],
      "execution_count": 4,
      "outputs": []
    },
    {
      "cell_type": "code",
      "metadata": {
        "id": "zf_kwyjWlP3o"
      },
      "source": [
        "# Defining the datatypes in the row\n",
        "data_types = ['INT', 'STRING', 'STRING', 'STRING', 'DATE', 'INT', 'STRING', 'STRING', 'STRING']"
      ],
      "execution_count": 5,
      "outputs": []
    },
    {
      "cell_type": "code",
      "metadata": {
        "id": "OQAik1J6lSeX"
      },
      "source": [
        "# Function to cast the value to the appropriate datatype\n",
        "def cast(data_type, value):\n",
        "    if data_type == 'DOUBLE':\n",
        "        return float(value)\n",
        "    elif data_type == 'INT':\n",
        "        return int(value)\n",
        "    elif data_type =='DATE':\n",
        "        return datetime.strptime(value,'%m/%d/%Y').date()\n",
        "    else:\n",
        "        return str(value)"
      ],
      "execution_count": 6,
      "outputs": []
    },
    {
      "cell_type": "code",
      "metadata": {
        "id": "eX73Pp3qlzxV"
      },
      "source": [
        "#Function which takes one row and sends the elements one by one for casting. Returns a list of casted elements \n",
        "def cast_row(data_types, data_row):\n",
        "    return [cast(data_type, value) \n",
        "            for data_type, value in zip(data_types, data_row)]"
      ],
      "execution_count": 7,
      "outputs": []
    },
    {
      "cell_type": "code",
      "metadata": {
        "id": "HYiSorXJi1Go"
      },
      "source": [
        "# Define a function to yield one row at a time (leaving out first line)\n",
        "# An iterator function (the function becomes an iterator because of the yield in the function) which reads lazily (line by line \n",
        "# from the file) and calls the function for casting. Once the elements are casted to proper datatypes, it is returned back.\n",
        "def get_data(file):\n",
        "    with open(file, 'r') as f:\n",
        "      f.readline() # removing first line as it is a header\n",
        "      yield from (cast_row(data_types, line.strip('\\n').split(',')) for line in f)"
      ],
      "execution_count": 8,
      "outputs": []
    },
    {
      "cell_type": "code",
      "metadata": {
        "id": "FNp-EkbfjxOS"
      },
      "source": [
        "data_gen = get_data(filename) # data generator"
      ],
      "execution_count": 9,
      "outputs": []
    },
    {
      "cell_type": "code",
      "metadata": {
        "id": "c7DkuWt7kNpz"
      },
      "source": [
        "# Goal 1: Lazy iterator\n",
        "def gen_iters():\n",
        "    return ParkingTickets(*next(data_gen))"
      ],
      "execution_count": 10,
      "outputs": []
    },
    {
      "cell_type": "code",
      "metadata": {
        "colab": {
          "base_uri": "https://localhost:8080/"
        },
        "id": "g5bwvGrjkdwn",
        "outputId": "5ac53f89-6ea3-49d0-9efa-8c6a703e8da1"
      },
      "source": [
        "gen_iters() # This is a lazy iterator function going over the data row by row."
      ],
      "execution_count": 11,
      "outputs": [
        {
          "output_type": "execute_result",
          "data": {
            "text/plain": [
              "ParkingTickets(summons_no=4006478550, plate_id='VAD7274', regn_state='VA', plate_type='PAS', issue_date=datetime.date(2016, 10, 5), violation_code=5, vehicle_type='4D', vehicle_make='BMW', violation_descr='BUS LANE VIOLATION')"
            ]
          },
          "metadata": {
            "tags": []
          },
          "execution_count": 11
        }
      ]
    },
    {
      "cell_type": "markdown",
      "metadata": {
        "id": "jSGUPoDA7eI5"
      },
      "source": [
        "#Goal 2\n",
        "##Calculate the number of violations by car make."
      ]
    },
    {
      "cell_type": "code",
      "metadata": {
        "colab": {
          "base_uri": "https://localhost:8080/"
        },
        "id": "hTRXgylpy-ke",
        "outputId": "7af8be09-721b-4fc1-8fb1-c9df15a3e7be"
      },
      "source": [
        "# get list from genrator object\n",
        "ticket_list = [ParkingTickets(*item) for item in data_gen]\n",
        "# find the number of elements in list\n",
        "len(ticket_list)"
      ],
      "execution_count": 12,
      "outputs": [
        {
          "output_type": "execute_result",
          "data": {
            "text/plain": [
              "999"
            ]
          },
          "metadata": {
            "tags": []
          },
          "execution_count": 12
        }
      ]
    },
    {
      "cell_type": "code",
      "metadata": {
        "colab": {
          "base_uri": "https://localhost:8080/"
        },
        "id": "ymZkLbMz24rF",
        "outputId": "a5444f30-ea3e-42f0-9c5f-7631c91ad51e"
      },
      "source": [
        "ticket_list[0]"
      ],
      "execution_count": 13,
      "outputs": [
        {
          "output_type": "execute_result",
          "data": {
            "text/plain": [
              "ParkingTickets(summons_no=4006462396, plate_id='22834JK', regn_state='NY', plate_type='COM', issue_date=datetime.date(2016, 9, 30), violation_code=5, vehicle_type='VAN', vehicle_make='CHEVR', violation_descr='BUS LANE VIOLATION')"
            ]
          },
          "metadata": {
            "tags": []
          },
          "execution_count": 13
        }
      ]
    },
    {
      "cell_type": "code",
      "metadata": {
        "id": "4NYv0JhG0z3u"
      },
      "source": [
        "# Function to count the violations. Uses a dictionary to count the number of violations by each brand car. This would include data \n",
        "# even if the name of the car is blank or violation description is blank\n",
        "\n",
        "ticket_dict = {}\n",
        "\n",
        "def ctr_dict(vehicle_make)->str:\n",
        "    def update():\n",
        "        if not vehicle_make in ticket_dict.keys():\n",
        "            ticket_dict[vehicle_make] = 0\n",
        "\n",
        "        ticket_dict[vehicle_make] += 1\n",
        "        return None\n",
        "\n",
        "    return update"
      ],
      "execution_count": 14,
      "outputs": []
    },
    {
      "cell_type": "code",
      "metadata": {
        "id": "eMYjfM3P1JSw"
      },
      "source": [
        "for item in ticket_list:\n",
        "    ctr_dict(item.vehicle_make)()"
      ],
      "execution_count": 15,
      "outputs": []
    },
    {
      "cell_type": "code",
      "metadata": {
        "colab": {
          "base_uri": "https://localhost:8080/"
        },
        "id": "ue0Vg2tY1WD5",
        "outputId": "1e475873-fee4-4f62-85bf-d1b9bde35fc3"
      },
      "source": [
        "ticket_dict"
      ],
      "execution_count": 16,
      "outputs": [
        {
          "output_type": "execute_result",
          "data": {
            "text/plain": [
              "{'': 5,\n",
              " 'ACURA': 12,\n",
              " 'AM/T': 1,\n",
              " 'AUDI': 12,\n",
              " 'BMW': 33,\n",
              " 'BSA': 1,\n",
              " 'BUICK': 5,\n",
              " 'CADIL': 9,\n",
              " 'CHEVR': 76,\n",
              " 'CHRYS': 12,\n",
              " 'CITRO': 1,\n",
              " 'DODGE': 45,\n",
              " 'FIAT': 1,\n",
              " 'FIR': 1,\n",
              " 'FORD': 104,\n",
              " 'FRUEH': 44,\n",
              " 'GEO': 1,\n",
              " 'GMC': 35,\n",
              " 'GMCQ': 1,\n",
              " 'HIN': 6,\n",
              " 'HINO': 2,\n",
              " 'HONDA': 106,\n",
              " 'HYUND': 35,\n",
              " 'INFIN': 13,\n",
              " 'INTER': 25,\n",
              " 'ISUZU': 10,\n",
              " 'JAGUA': 3,\n",
              " 'JEEP': 22,\n",
              " 'KENWO': 5,\n",
              " 'KIA': 8,\n",
              " 'LEXUS': 26,\n",
              " 'LINCO': 12,\n",
              " 'MAZDA': 5,\n",
              " 'ME/BE': 38,\n",
              " 'MERCU': 4,\n",
              " 'MI/F': 1,\n",
              " 'MINI': 1,\n",
              " 'MITSU': 11,\n",
              " 'NISSA': 70,\n",
              " 'NS/OT': 18,\n",
              " 'OLDSM': 1,\n",
              " 'PETER': 1,\n",
              " 'PLYMO': 1,\n",
              " 'PONTI': 1,\n",
              " 'PORSC': 3,\n",
              " 'ROVER': 5,\n",
              " 'SAAB': 2,\n",
              " 'SATUR': 2,\n",
              " 'SCION': 2,\n",
              " 'SMART': 3,\n",
              " 'SPRI': 1,\n",
              " 'STAR': 1,\n",
              " 'SUBAR': 18,\n",
              " 'TOYOT': 112,\n",
              " 'UD': 1,\n",
              " 'UPS': 1,\n",
              " 'UTILI': 1,\n",
              " 'VOLKS': 8,\n",
              " 'VOLVO': 12,\n",
              " 'WORKH': 2,\n",
              " 'YAMAH': 1}"
            ]
          },
          "metadata": {
            "tags": []
          },
          "execution_count": 16
        }
      ]
    },
    {
      "cell_type": "markdown",
      "metadata": {
        "id": "UEZDEV9v7rlW"
      },
      "source": [
        "Get violations By makes"
      ]
    },
    {
      "cell_type": "code",
      "metadata": {
        "id": "eXGOy3SJ1eI9"
      },
      "source": [
        "def get_voilations_by_car_make(make_name):\n",
        "    \"\"\"Return the number of voilations by a car make\"\"\"\n",
        "    return(ticket_dict[make_name])"
      ],
      "execution_count": 17,
      "outputs": []
    },
    {
      "cell_type": "code",
      "metadata": {
        "colab": {
          "base_uri": "https://localhost:8080/"
        },
        "id": "cVG4qnzA63er",
        "outputId": "7e31f764-576a-4528-c38e-3641895386e2"
      },
      "source": [
        "get_voilations_by_car_make('BMW')"
      ],
      "execution_count": 18,
      "outputs": [
        {
          "output_type": "execute_result",
          "data": {
            "text/plain": [
              "33"
            ]
          },
          "metadata": {
            "tags": []
          },
          "execution_count": 18
        }
      ]
    }
  ]
}